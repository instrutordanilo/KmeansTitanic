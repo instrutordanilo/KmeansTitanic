{
  "cells": [
    {
      "cell_type": "code",
      "execution_count": null,
      "metadata": {
        "colab": {
          "base_uri": "https://localhost:8080/",
          "height": 1000
        },
        "id": "QML44xNqX2nd",
        "outputId": "b2e1c752-3a91-4b56-c64a-92b13882678b"
      },
      "outputs": [],
      "source": [
        "# Importando as bibliotecas necessárias\n",
        "import pandas as pd\n",
        "import numpy as np\n",
        "from sklearn.cluster import KMeans\n",
        "from sklearn.preprocessing import LabelEncoder, MinMaxScaler\n",
        "import seaborn as sns\n",
        "import matplotlib.pyplot as plt\n",
        "from sklearn.metrics import silhouette_score, davies_bouldin_score\n",
        "\n",
        "%matplotlib inline\n",
        "\n",
        "\n",
        "# Carregando os dados\n",
        "treino = pd.read_csv('data/train.csv')\n",
        "teste = pd.read_csv('data/test.csv')\n",
        "\n",
        "print(\"***** Treino *****\")\n",
        "print(treino.head())\n",
        "print(\"\\n\")\n",
        "print(\"***** Teste *****\")\n",
        "print(teste.head())\n",
        "print(\"\\n\")\n",
        "print(\"\\n\")\n",
        "print(\"***** Treino *****\")\n",
        "print(treino.describe())\n",
        "print(\"\\n\")\n",
        "print(\"***** Teste *****\")\n",
        "print(teste.describe())\n",
        "\n",
        "print(\"\\n\")\n",
        "print(\"***** Colunas de Treino *****\")\n",
        "print(treino.columns.values)\n",
        "print(\"\\n\")\n",
        "print(\"\\n\")\n",
        "# Campos vazios na lista de treino retornam o valor True abaixo\n",
        "treino.isna().head()\n",
        "\n",
        "# # Campos vazios na lista de teste retornam o valor True abaixo\n",
        "teste.isna().head()\n",
        "\n",
        "print(\"***** Quantidade de campos vazios no Treino *****\")\n",
        "print(treino.isna().sum())\n",
        "print(\"\\n\")\n",
        "print(\"***** Quantidade de campos vazios no Teste *****\")\n",
        "print(teste.isna().sum())\n",
        "\n",
        "# Tratamento de valores faltantes\n",
        "treino.fillna({'Age': treino['Age'].median(), 'Embarked': treino['Embarked'].mode()[0]}, inplace=True)\n",
        "teste.fillna({'Age': teste['Age'].median(), 'Embarked': teste['Embarked'].mode()[0]}, inplace=True)\n",
        "\n",
        "# Remoção de colunas não numéricas\n",
        "colunas_para_remover = ['Name', 'Ticket', 'Cabin', 'Embarked','PassengerId']\n",
        "treino.drop(colunas_para_remover, axis=1, inplace=True)\n",
        "teste.drop(colunas_para_remover, axis=1, inplace=True)\n",
        "\n",
        "# Convertendo variáveis categóricas (AQUI PRECISO QUE VC ANALISE)\n",
        "labelEncoder = LabelEncoder()\n",
        "treino['Sex'] = labelEncoder.fit_transform(treino['Sex'])\n",
        "teste['Sex'] = labelEncoder.transform(teste['Sex'])\n",
        "\n",
        "# Normalizando os dados\n",
        "scaler = MinMaxScaler()\n",
        "X = scaler.fit_transform(treino.drop(['Survived'], axis=1))\n",
        "y = treino['Survived']\n",
        "\n",
        "# Calculando a soma dos quadrados dentro dos clusters para diferentes números de clusters (AQUI PRECISO QUE VC ANALISE adpatei essa parte do site)\n",
        "inertia = []\n",
        "K_range = range(1, 12)\n",
        "for k in K_range:\n",
        "    #kmeans = KMeans(n_clusters=k, max_iter=600, algorithm='auto')\n",
        "    kmeans = KMeans(n_clusters=k, max_iter=1000, n_init=\"auto\",random_state=42)\n",
        "    kmeans.fit(X)\n",
        "    inertia.append(kmeans.inertia_)\n",
        "\n",
        "print(\"\\n\")\n",
        "print(\"\\n\")\n",
        "# Plotando o gráfico do cotovelo\n",
        "plt.figure(figsize=(10, 6))\n",
        "plt.plot(K_range, inertia, marker='o')\n",
        "plt.xlabel('Número de Clusters')\n",
        "plt.ylabel('Inertia')\n",
        "plt.title('Gráfico do Cotovelo para o Dataset Titanic')\n",
        "plt.show()\n",
        "\n",
        "# Aplicando K-Means\n",
        "#kmeans = KMeans(n_clusters=2, max_iter=600, algorithm='auto')\n",
        "kmeans = KMeans(n_clusters=k, max_iter=1000, n_init=\"auto\",verbose=1)\n",
        "kmeans.fit(X)\n",
        "\n",
        "# Avaliando a correspondência entre os clusters e a sobrevivência\n",
        "treino['Cluster'] = kmeans.labels_\n",
        "correspondencia = pd.crosstab(treino['Survived'], treino['Cluster'])\n",
        "print(correspondencia)\n",
        "\n",
        "print(\"\\n\")\n",
        "print(\"\\n\")\n",
        "# Visualizações\n",
        "# Distribuição de idade por cluster\n",
        "sns.histplot(data=treino, x='Age', hue='Cluster', kde=True)\n",
        "plt.title('Distribuição de Idade por Cluster')\n",
        "plt.show()\n",
        "\n",
        "# Distribuição de tarifa por sexo, colorida por cluster (AQUI ESTAVA COLOcando pra testar mas nao sei se faz sentido)\n",
        "sns.scatterplot(data=treino, x='Fare', y='Sex', hue='Cluster')\n",
        "plt.title('Tarifa por Sexo e Cluster')\n",
        "plt.show()\n",
        "\n",
        "# Relação entre Pclass e Sobrevivência\n",
        "sns.barplot(x='Pclass', y='Survived', data=treino)\n",
        "plt.title('Relação entre Classe e Sobrevivência')\n",
        "plt.show()\n"
      ]
    },
    {
      "cell_type": "markdown",
      "metadata": {},
      "source": [
        "Para avaliar métricas de cluster, consultar: https://scikit-learn.org/stable/modules/clustering.html#clustering-performance-evaluation"
      ]
    },
    {
      "cell_type": "code",
      "execution_count": null,
      "metadata": {},
      "outputs": [],
      "source": [
        "#Obtendo os rótulos dos clusters\n",
        "labels = kmeans.labels_\n",
        "\n",
        "# Calculando o coeficiente de silhueta\n",
        "silhouette = silhouette_score(X, labels)\n",
        "print(\"Coeficiente de Silhueta:\", silhouette)\n",
        "\n",
        "# Calculando o índice de Davies-Bouldin\n",
        "davies_bouldin = davies_bouldin_score(X, labels)\n",
        "print(\"Índice de Davies-Bouldin:\", davies_bouldin)"
      ]
    },
    {
      "cell_type": "code",
      "execution_count": null,
      "metadata": {},
      "outputs": [],
      "source": [
        "treino.loc[treino.Cluster==0].describe()"
      ]
    },
    {
      "cell_type": "code",
      "execution_count": null,
      "metadata": {},
      "outputs": [],
      "source": [
        "labelEncoder.inverse_transform([0, 1])"
      ]
    },
    {
      "cell_type": "code",
      "execution_count": null,
      "metadata": {},
      "outputs": [],
      "source": [
        "treino.describe()"
      ]
    },
    {
      "cell_type": "code",
      "execution_count": null,
      "metadata": {},
      "outputs": [],
      "source": [
        "sns.barplot(x='Cluster', y='Pclass',hue=\"Sex\", data=treino)"
      ]
    },
    {
      "cell_type": "code",
      "execution_count": null,
      "metadata": {},
      "outputs": [],
      "source": [
        "sns.barplot(x='Cluster', y='Survived',hue=\"Pclass\", data=treino)"
      ]
    }
  ],
  "metadata": {
    "colab": {
      "provenance": []
    },
    "kernelspec": {
      "display_name": "Python 3",
      "name": "python3"
    },
    "language_info": {
      "codemirror_mode": {
        "name": "ipython",
        "version": 3
      },
      "file_extension": ".py",
      "mimetype": "text/x-python",
      "name": "python",
      "nbconvert_exporter": "python",
      "pygments_lexer": "ipython3",
      "version": "3.11.0"
    }
  },
  "nbformat": 4,
  "nbformat_minor": 0
}
